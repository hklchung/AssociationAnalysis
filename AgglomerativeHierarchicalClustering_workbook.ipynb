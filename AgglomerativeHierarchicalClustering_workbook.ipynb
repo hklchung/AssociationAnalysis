{
 "cells": [
  {
   "cell_type": "code",
   "execution_count": 1,
   "metadata": {},
   "outputs": [],
   "source": [
    "import pandas as pd\n",
    "import numpy as np\n",
    "import seaborn as sns\n",
    "\n",
    "import scipy.spatial as sp, scipy.cluster.hierarchy as hc\n",
    "from scipy.cluster import hierarchy\n",
    "from matplotlib import pyplot as plt\n",
    "from sklearn.metrics.pairwise import pairwise_distances\n",
    "from sklearn.cluster import AgglomerativeClustering"
   ]
  },
  {
   "cell_type": "code",
   "execution_count": 2,
   "metadata": {},
   "outputs": [
    {
     "data": {
      "text/html": [
       "<div>\n",
       "<style scoped>\n",
       "    .dataframe tbody tr th:only-of-type {\n",
       "        vertical-align: middle;\n",
       "    }\n",
       "\n",
       "    .dataframe tbody tr th {\n",
       "        vertical-align: top;\n",
       "    }\n",
       "\n",
       "    .dataframe thead th {\n",
       "        text-align: right;\n",
       "    }\n",
       "</style>\n",
       "<table border=\"1\" class=\"dataframe\">\n",
       "  <thead>\n",
       "    <tr style=\"text-align: right;\">\n",
       "      <th></th>\n",
       "      <th>Member_number</th>\n",
       "      <th>Date</th>\n",
       "      <th>itemDescription</th>\n",
       "    </tr>\n",
       "  </thead>\n",
       "  <tbody>\n",
       "    <tr>\n",
       "      <th>0</th>\n",
       "      <td>1808</td>\n",
       "      <td>21-07-2015</td>\n",
       "      <td>tropical fruit</td>\n",
       "    </tr>\n",
       "    <tr>\n",
       "      <th>1</th>\n",
       "      <td>2552</td>\n",
       "      <td>05-01-2015</td>\n",
       "      <td>whole milk</td>\n",
       "    </tr>\n",
       "    <tr>\n",
       "      <th>2</th>\n",
       "      <td>2300</td>\n",
       "      <td>19-09-2015</td>\n",
       "      <td>pip fruit</td>\n",
       "    </tr>\n",
       "    <tr>\n",
       "      <th>3</th>\n",
       "      <td>1187</td>\n",
       "      <td>12-12-2015</td>\n",
       "      <td>other vegetables</td>\n",
       "    </tr>\n",
       "    <tr>\n",
       "      <th>4</th>\n",
       "      <td>3037</td>\n",
       "      <td>01-02-2015</td>\n",
       "      <td>whole milk</td>\n",
       "    </tr>\n",
       "  </tbody>\n",
       "</table>\n",
       "</div>"
      ],
      "text/plain": [
       "   Member_number        Date   itemDescription\n",
       "0           1808  21-07-2015    tropical fruit\n",
       "1           2552  05-01-2015        whole milk\n",
       "2           2300  19-09-2015         pip fruit\n",
       "3           1187  12-12-2015  other vegetables\n",
       "4           3037  01-02-2015        whole milk"
      ]
     },
     "execution_count": 2,
     "metadata": {},
     "output_type": "execute_result"
    }
   ],
   "source": [
    "data = pd.read_csv(\"Data/Groceries_dataset.csv\")\n",
    "data.head()"
   ]
  },
  {
   "cell_type": "code",
   "execution_count": 3,
   "metadata": {},
   "outputs": [
    {
     "name": "stdout",
     "output_type": "stream",
     "text": [
      "We have data from the period between 01-01-2014 and 31-10-2015\n"
     ]
    }
   ],
   "source": [
    "print(\"We have data from the period between {} and {}\".format(min(data['Date']), max(data['Date'])))"
   ]
  },
  {
   "cell_type": "code",
   "execution_count": 5,
   "metadata": {},
   "outputs": [
    {
     "name": "stdout",
     "output_type": "stream",
     "text": [
      "Total 38765 rows of data\n",
      "Total 3898 distinct customers\n",
      "Total 167 distinct products\n"
     ]
    }
   ],
   "source": [
    "print(\"Total {} rows of data\".format(len(data)))\n",
    "print(\"Total {} distinct customers\".format(len(set(data['Member_number']))))\n",
    "print(\"Total {} distinct products\".format(len(set(data['itemDescription']))))"
   ]
  },
  {
   "cell_type": "code",
   "execution_count": 19,
   "metadata": {},
   "outputs": [
    {
     "name": "stdout",
     "output_type": "stream",
     "text": [
      "Total 34766 rows of data\n",
      "Total 3898 distinct customers\n",
      "Total 167 distinct products\n"
     ]
    }
   ],
   "source": [
    "# We only want to know whether a customer has purchased a particular product within window, no need to keep multiple entries\n",
    "agg_data = data[['Member_number', 'itemDescription']].drop_duplicates()\n",
    "print(\"Total {} rows of data\".format(len(agg_data)))\n",
    "print(\"Total {} distinct customers\".format(len(set(agg_data['Member_number']))))\n",
    "print(\"Total {} distinct products\".format(len(set(agg_data['itemDescription']))))"
   ]
  },
  {
   "cell_type": "code",
   "execution_count": 24,
   "metadata": {},
   "outputs": [
    {
     "name": "stdout",
     "output_type": "stream",
     "text": [
      "Top selling: whole milk\n",
      "Worst selling: preservation products\n"
     ]
    }
   ],
   "source": [
    "# Now we do a quick count to see what are the most/least popular products\n",
    "prod_count = agg_data[['itemDescription', 'Member_number']].groupby(['itemDescription'])['Member_number'] \\\n",
    "                    .count() \\\n",
    "                    .reset_index(name='count') \\\n",
    "                    .sort_values(['count'], ascending=False)\n",
    "print(\"Top selling: {}\".format(prod_count['itemDescription'].iloc[0]))\n",
    "print(\"Worst selling: {}\".format(prod_count['itemDescription'].iloc[len(prod_count)-1]))"
   ]
  },
  {
   "cell_type": "code",
   "execution_count": 25,
   "metadata": {},
   "outputs": [
    {
     "data": {
      "text/plain": [
       "0.05      6.6\n",
       "0.95    779.0\n",
       "Name: count, dtype: float64"
      ]
     },
     "execution_count": 25,
     "metadata": {},
     "output_type": "execute_result"
    }
   ],
   "source": [
    "# Check out the cutoffs for top and bottom 5%, this might be useful later for getting a gaussian curve for dissimilarity density\n",
    "prod_count['count'].dropna().quantile([0.05, 0.95])"
   ]
  },
  {
   "cell_type": "code",
   "execution_count": 37,
   "metadata": {},
   "outputs": [
    {
     "name": "stderr",
     "output_type": "stream",
     "text": [
      "C:\\Users\\Leslie\\Anaconda3\\lib\\site-packages\\ipykernel_launcher.py:4: SettingWithCopyWarning: \n",
      "A value is trying to be set on a copy of a slice from a DataFrame.\n",
      "Try using .loc[row_indexer,col_indexer] = value instead\n",
      "\n",
      "See the caveats in the documentation: https://pandas.pydata.org/pandas-docs/stable/user_guide/indexing.html#returning-a-view-versus-a-copy\n",
      "  after removing the cwd from sys.path.\n"
     ]
    },
    {
     "data": {
      "text/html": [
       "<div>\n",
       "<style scoped>\n",
       "    .dataframe tbody tr th:only-of-type {\n",
       "        vertical-align: middle;\n",
       "    }\n",
       "\n",
       "    .dataframe tbody tr th {\n",
       "        vertical-align: top;\n",
       "    }\n",
       "\n",
       "    .dataframe thead th {\n",
       "        text-align: right;\n",
       "    }\n",
       "</style>\n",
       "<table border=\"1\" class=\"dataframe\">\n",
       "  <thead>\n",
       "    <tr style=\"text-align: right;\">\n",
       "      <th>itemDescription</th>\n",
       "      <th>Instant food products</th>\n",
       "      <th>UHT-milk</th>\n",
       "      <th>abrasive cleaner</th>\n",
       "      <th>artif. sweetener</th>\n",
       "      <th>baking powder</th>\n",
       "      <th>bathroom cleaner</th>\n",
       "      <th>beef</th>\n",
       "      <th>berries</th>\n",
       "      <th>beverages</th>\n",
       "      <th>bottled beer</th>\n",
       "      <th>...</th>\n",
       "      <th>tea</th>\n",
       "      <th>tidbits</th>\n",
       "      <th>turkey</th>\n",
       "      <th>vinegar</th>\n",
       "      <th>waffles</th>\n",
       "      <th>whipped/sour cream</th>\n",
       "      <th>whisky</th>\n",
       "      <th>white bread</th>\n",
       "      <th>white wine</th>\n",
       "      <th>zwieback</th>\n",
       "    </tr>\n",
       "  </thead>\n",
       "  <tbody>\n",
       "    <tr>\n",
       "      <th>0</th>\n",
       "      <td>0</td>\n",
       "      <td>0</td>\n",
       "      <td>0</td>\n",
       "      <td>0</td>\n",
       "      <td>0</td>\n",
       "      <td>0</td>\n",
       "      <td>0</td>\n",
       "      <td>0</td>\n",
       "      <td>0</td>\n",
       "      <td>0</td>\n",
       "      <td>...</td>\n",
       "      <td>0</td>\n",
       "      <td>0</td>\n",
       "      <td>0</td>\n",
       "      <td>0</td>\n",
       "      <td>0</td>\n",
       "      <td>0</td>\n",
       "      <td>0</td>\n",
       "      <td>0</td>\n",
       "      <td>0</td>\n",
       "      <td>0</td>\n",
       "    </tr>\n",
       "    <tr>\n",
       "      <th>1</th>\n",
       "      <td>0</td>\n",
       "      <td>0</td>\n",
       "      <td>0</td>\n",
       "      <td>0</td>\n",
       "      <td>0</td>\n",
       "      <td>0</td>\n",
       "      <td>1</td>\n",
       "      <td>0</td>\n",
       "      <td>0</td>\n",
       "      <td>0</td>\n",
       "      <td>...</td>\n",
       "      <td>0</td>\n",
       "      <td>0</td>\n",
       "      <td>0</td>\n",
       "      <td>0</td>\n",
       "      <td>0</td>\n",
       "      <td>1</td>\n",
       "      <td>0</td>\n",
       "      <td>1</td>\n",
       "      <td>0</td>\n",
       "      <td>0</td>\n",
       "    </tr>\n",
       "    <tr>\n",
       "      <th>2</th>\n",
       "      <td>0</td>\n",
       "      <td>0</td>\n",
       "      <td>0</td>\n",
       "      <td>0</td>\n",
       "      <td>0</td>\n",
       "      <td>0</td>\n",
       "      <td>0</td>\n",
       "      <td>0</td>\n",
       "      <td>0</td>\n",
       "      <td>0</td>\n",
       "      <td>...</td>\n",
       "      <td>0</td>\n",
       "      <td>0</td>\n",
       "      <td>0</td>\n",
       "      <td>0</td>\n",
       "      <td>0</td>\n",
       "      <td>0</td>\n",
       "      <td>0</td>\n",
       "      <td>0</td>\n",
       "      <td>0</td>\n",
       "      <td>0</td>\n",
       "    </tr>\n",
       "    <tr>\n",
       "      <th>3</th>\n",
       "      <td>0</td>\n",
       "      <td>0</td>\n",
       "      <td>0</td>\n",
       "      <td>0</td>\n",
       "      <td>0</td>\n",
       "      <td>0</td>\n",
       "      <td>0</td>\n",
       "      <td>0</td>\n",
       "      <td>0</td>\n",
       "      <td>0</td>\n",
       "      <td>...</td>\n",
       "      <td>0</td>\n",
       "      <td>0</td>\n",
       "      <td>0</td>\n",
       "      <td>0</td>\n",
       "      <td>0</td>\n",
       "      <td>0</td>\n",
       "      <td>0</td>\n",
       "      <td>0</td>\n",
       "      <td>0</td>\n",
       "      <td>0</td>\n",
       "    </tr>\n",
       "    <tr>\n",
       "      <th>4</th>\n",
       "      <td>0</td>\n",
       "      <td>0</td>\n",
       "      <td>0</td>\n",
       "      <td>0</td>\n",
       "      <td>0</td>\n",
       "      <td>0</td>\n",
       "      <td>0</td>\n",
       "      <td>0</td>\n",
       "      <td>0</td>\n",
       "      <td>0</td>\n",
       "      <td>...</td>\n",
       "      <td>0</td>\n",
       "      <td>0</td>\n",
       "      <td>0</td>\n",
       "      <td>0</td>\n",
       "      <td>0</td>\n",
       "      <td>0</td>\n",
       "      <td>0</td>\n",
       "      <td>0</td>\n",
       "      <td>0</td>\n",
       "      <td>0</td>\n",
       "    </tr>\n",
       "  </tbody>\n",
       "</table>\n",
       "<p>5 rows × 149 columns</p>\n",
       "</div>"
      ],
      "text/plain": [
       "itemDescription  Instant food products  UHT-milk  abrasive cleaner  \\\n",
       "0                                    0         0                 0   \n",
       "1                                    0         0                 0   \n",
       "2                                    0         0                 0   \n",
       "3                                    0         0                 0   \n",
       "4                                    0         0                 0   \n",
       "\n",
       "itemDescription  artif. sweetener  baking powder  bathroom cleaner  beef  \\\n",
       "0                               0              0                 0     0   \n",
       "1                               0              0                 0     1   \n",
       "2                               0              0                 0     0   \n",
       "3                               0              0                 0     0   \n",
       "4                               0              0                 0     0   \n",
       "\n",
       "itemDescription  berries  beverages  bottled beer  ...  tea  tidbits  turkey  \\\n",
       "0                      0          0             0  ...    0        0       0   \n",
       "1                      0          0             0  ...    0        0       0   \n",
       "2                      0          0             0  ...    0        0       0   \n",
       "3                      0          0             0  ...    0        0       0   \n",
       "4                      0          0             0  ...    0        0       0   \n",
       "\n",
       "itemDescription  vinegar  waffles  whipped/sour cream  whisky  white bread  \\\n",
       "0                      0        0                   0       0            0   \n",
       "1                      0        0                   1       0            1   \n",
       "2                      0        0                   0       0            0   \n",
       "3                      0        0                   0       0            0   \n",
       "4                      0        0                   0       0            0   \n",
       "\n",
       "itemDescription  white wine  zwieback  \n",
       "0                         0         0  \n",
       "1                         0         0  \n",
       "2                         0         0  \n",
       "3                         0         0  \n",
       "4                         0         0  \n",
       "\n",
       "[5 rows x 149 columns]"
      ]
     },
     "execution_count": 37,
     "metadata": {},
     "output_type": "execute_result"
    }
   ],
   "source": [
    "filtered_prods = prod_count[(prod_count['count']>6.6) & (prod_count['count']<779)].itemDescription\n",
    "\n",
    "prod_list = agg_data[agg_data.itemDescription.isin(filtered_prods)]\n",
    "prod_list['purchase'] = 1\n",
    "\n",
    "prod_list_pivot = prod_list.pivot(values='purchase', index='Member_number', columns='itemDescription')\n",
    "df = prod_list_pivot.reset_index().drop(columns = ['Member_number']).fillna(0).astype(int)\n",
    "\n",
    "df.head()"
   ]
  },
  {
   "cell_type": "code",
   "execution_count": 39,
   "metadata": {},
   "outputs": [
    {
     "name": "stderr",
     "output_type": "stream",
     "text": [
      "C:\\Users\\Leslie\\Anaconda3\\lib\\site-packages\\sklearn\\metrics\\pairwise.py:1735: DataConversionWarning: Data was converted to boolean for metric yule\n",
      "  warnings.warn(msg, DataConversionWarning)\n"
     ]
    },
    {
     "data": {
      "text/html": [
       "<div>\n",
       "<style scoped>\n",
       "    .dataframe tbody tr th:only-of-type {\n",
       "        vertical-align: middle;\n",
       "    }\n",
       "\n",
       "    .dataframe tbody tr th {\n",
       "        vertical-align: top;\n",
       "    }\n",
       "\n",
       "    .dataframe thead th {\n",
       "        text-align: right;\n",
       "    }\n",
       "</style>\n",
       "<table border=\"1\" class=\"dataframe\">\n",
       "  <thead>\n",
       "    <tr style=\"text-align: right;\">\n",
       "      <th>itemDescription</th>\n",
       "      <th>Instant food products</th>\n",
       "      <th>UHT-milk</th>\n",
       "      <th>abrasive cleaner</th>\n",
       "      <th>artif. sweetener</th>\n",
       "      <th>baking powder</th>\n",
       "      <th>bathroom cleaner</th>\n",
       "      <th>beef</th>\n",
       "      <th>berries</th>\n",
       "      <th>beverages</th>\n",
       "      <th>bottled beer</th>\n",
       "      <th>...</th>\n",
       "      <th>tea</th>\n",
       "      <th>tidbits</th>\n",
       "      <th>turkey</th>\n",
       "      <th>vinegar</th>\n",
       "      <th>waffles</th>\n",
       "      <th>whipped/sour cream</th>\n",
       "      <th>whisky</th>\n",
       "      <th>white bread</th>\n",
       "      <th>white wine</th>\n",
       "      <th>zwieback</th>\n",
       "    </tr>\n",
       "    <tr>\n",
       "      <th>itemDescription</th>\n",
       "      <th></th>\n",
       "      <th></th>\n",
       "      <th></th>\n",
       "      <th></th>\n",
       "      <th></th>\n",
       "      <th></th>\n",
       "      <th></th>\n",
       "      <th></th>\n",
       "      <th></th>\n",
       "      <th></th>\n",
       "      <th></th>\n",
       "      <th></th>\n",
       "      <th></th>\n",
       "      <th></th>\n",
       "      <th></th>\n",
       "      <th></th>\n",
       "      <th></th>\n",
       "      <th></th>\n",
       "      <th></th>\n",
       "      <th></th>\n",
       "      <th></th>\n",
       "    </tr>\n",
       "  </thead>\n",
       "  <tbody>\n",
       "    <tr>\n",
       "      <th>Instant food products</th>\n",
       "      <td>0.000000</td>\n",
       "      <td>1.095195</td>\n",
       "      <td>2.000000</td>\n",
       "      <td>2.000000</td>\n",
       "      <td>1.316597</td>\n",
       "      <td>2.000000</td>\n",
       "      <td>0.873756</td>\n",
       "      <td>1.253239</td>\n",
       "      <td>0.967339</td>\n",
       "      <td>0.918811</td>\n",
       "      <td>...</td>\n",
       "      <td>2.000000</td>\n",
       "      <td>2.000000</td>\n",
       "      <td>0.553936</td>\n",
       "      <td>0.541740</td>\n",
       "      <td>0.902564</td>\n",
       "      <td>1.094446</td>\n",
       "      <td>2.0</td>\n",
       "      <td>0.777149</td>\n",
       "      <td>0.939301</td>\n",
       "      <td>0.620779</td>\n",
       "    </tr>\n",
       "    <tr>\n",
       "      <th>UHT-milk</th>\n",
       "      <td>1.095195</td>\n",
       "      <td>0.000000</td>\n",
       "      <td>0.704349</td>\n",
       "      <td>0.854123</td>\n",
       "      <td>0.874069</td>\n",
       "      <td>2.000000</td>\n",
       "      <td>0.935777</td>\n",
       "      <td>0.903799</td>\n",
       "      <td>0.869410</td>\n",
       "      <td>0.890613</td>\n",
       "      <td>...</td>\n",
       "      <td>0.545987</td>\n",
       "      <td>1.289641</td>\n",
       "      <td>1.116713</td>\n",
       "      <td>1.620493</td>\n",
       "      <td>0.906997</td>\n",
       "      <td>0.921251</td>\n",
       "      <td>2.0</td>\n",
       "      <td>1.055594</td>\n",
       "      <td>0.874108</td>\n",
       "      <td>0.649682</td>\n",
       "    </tr>\n",
       "    <tr>\n",
       "      <th>abrasive cleaner</th>\n",
       "      <td>2.000000</td>\n",
       "      <td>0.704349</td>\n",
       "      <td>0.000000</td>\n",
       "      <td>2.000000</td>\n",
       "      <td>2.000000</td>\n",
       "      <td>2.000000</td>\n",
       "      <td>0.762936</td>\n",
       "      <td>0.934382</td>\n",
       "      <td>1.169768</td>\n",
       "      <td>0.786794</td>\n",
       "      <td>...</td>\n",
       "      <td>2.000000</td>\n",
       "      <td>2.000000</td>\n",
       "      <td>0.601898</td>\n",
       "      <td>2.000000</td>\n",
       "      <td>1.224410</td>\n",
       "      <td>0.909183</td>\n",
       "      <td>2.0</td>\n",
       "      <td>0.767293</td>\n",
       "      <td>0.990211</td>\n",
       "      <td>2.000000</td>\n",
       "    </tr>\n",
       "    <tr>\n",
       "      <th>artif. sweetener</th>\n",
       "      <td>2.000000</td>\n",
       "      <td>0.854123</td>\n",
       "      <td>2.000000</td>\n",
       "      <td>0.000000</td>\n",
       "      <td>2.000000</td>\n",
       "      <td>2.000000</td>\n",
       "      <td>1.088082</td>\n",
       "      <td>0.705715</td>\n",
       "      <td>1.306107</td>\n",
       "      <td>0.957007</td>\n",
       "      <td>...</td>\n",
       "      <td>2.000000</td>\n",
       "      <td>2.000000</td>\n",
       "      <td>0.295387</td>\n",
       "      <td>2.000000</td>\n",
       "      <td>1.006352</td>\n",
       "      <td>1.074131</td>\n",
       "      <td>2.0</td>\n",
       "      <td>1.142998</td>\n",
       "      <td>2.000000</td>\n",
       "      <td>2.000000</td>\n",
       "    </tr>\n",
       "    <tr>\n",
       "      <th>baking powder</th>\n",
       "      <td>1.316597</td>\n",
       "      <td>0.874069</td>\n",
       "      <td>2.000000</td>\n",
       "      <td>2.000000</td>\n",
       "      <td>0.000000</td>\n",
       "      <td>0.681093</td>\n",
       "      <td>0.910777</td>\n",
       "      <td>0.795499</td>\n",
       "      <td>0.703643</td>\n",
       "      <td>0.867562</td>\n",
       "      <td>...</td>\n",
       "      <td>0.913884</td>\n",
       "      <td>2.000000</td>\n",
       "      <td>1.105623</td>\n",
       "      <td>2.000000</td>\n",
       "      <td>1.029837</td>\n",
       "      <td>0.966063</td>\n",
       "      <td>2.0</td>\n",
       "      <td>1.104967</td>\n",
       "      <td>1.158962</td>\n",
       "      <td>0.515035</td>\n",
       "    </tr>\n",
       "  </tbody>\n",
       "</table>\n",
       "<p>5 rows × 149 columns</p>\n",
       "</div>"
      ],
      "text/plain": [
       "itemDescription        Instant food products  UHT-milk  abrasive cleaner  \\\n",
       "itemDescription                                                            \n",
       "Instant food products               0.000000  1.095195          2.000000   \n",
       "UHT-milk                            1.095195  0.000000          0.704349   \n",
       "abrasive cleaner                    2.000000  0.704349          0.000000   \n",
       "artif. sweetener                    2.000000  0.854123          2.000000   \n",
       "baking powder                       1.316597  0.874069          2.000000   \n",
       "\n",
       "itemDescription        artif. sweetener  baking powder  bathroom cleaner  \\\n",
       "itemDescription                                                            \n",
       "Instant food products          2.000000       1.316597          2.000000   \n",
       "UHT-milk                       0.854123       0.874069          2.000000   \n",
       "abrasive cleaner               2.000000       2.000000          2.000000   \n",
       "artif. sweetener               0.000000       2.000000          2.000000   \n",
       "baking powder                  2.000000       0.000000          0.681093   \n",
       "\n",
       "itemDescription            beef   berries  beverages  bottled beer  ...  \\\n",
       "itemDescription                                                     ...   \n",
       "Instant food products  0.873756  1.253239   0.967339      0.918811  ...   \n",
       "UHT-milk               0.935777  0.903799   0.869410      0.890613  ...   \n",
       "abrasive cleaner       0.762936  0.934382   1.169768      0.786794  ...   \n",
       "artif. sweetener       1.088082  0.705715   1.306107      0.957007  ...   \n",
       "baking powder          0.910777  0.795499   0.703643      0.867562  ...   \n",
       "\n",
       "itemDescription             tea   tidbits    turkey   vinegar   waffles  \\\n",
       "itemDescription                                                           \n",
       "Instant food products  2.000000  2.000000  0.553936  0.541740  0.902564   \n",
       "UHT-milk               0.545987  1.289641  1.116713  1.620493  0.906997   \n",
       "abrasive cleaner       2.000000  2.000000  0.601898  2.000000  1.224410   \n",
       "artif. sweetener       2.000000  2.000000  0.295387  2.000000  1.006352   \n",
       "baking powder          0.913884  2.000000  1.105623  2.000000  1.029837   \n",
       "\n",
       "itemDescription        whipped/sour cream  whisky  white bread  white wine  \\\n",
       "itemDescription                                                              \n",
       "Instant food products            1.094446     2.0     0.777149    0.939301   \n",
       "UHT-milk                         0.921251     2.0     1.055594    0.874108   \n",
       "abrasive cleaner                 0.909183     2.0     0.767293    0.990211   \n",
       "artif. sweetener                 1.074131     2.0     1.142998    2.000000   \n",
       "baking powder                    0.966063     2.0     1.104967    1.158962   \n",
       "\n",
       "itemDescription        zwieback  \n",
       "itemDescription                  \n",
       "Instant food products  0.620779  \n",
       "UHT-milk               0.649682  \n",
       "abrasive cleaner       2.000000  \n",
       "artif. sweetener       2.000000  \n",
       "baking powder          0.515035  \n",
       "\n",
       "[5 rows x 149 columns]"
      ]
     },
     "execution_count": 39,
     "metadata": {},
     "output_type": "execute_result"
    }
   ],
   "source": [
    "dm = pairwise_distances(df.T.values, metric = 'yule')\n",
    "dm = pd.DataFrame(dm, index = df.columns, columns = df.columns)\n",
    "dm.head()"
   ]
  },
  {
   "cell_type": "code",
   "execution_count": 46,
   "metadata": {},
   "outputs": [
    {
     "name": "stderr",
     "output_type": "stream",
     "text": [
      "C:\\Users\\Leslie\\Anaconda3\\lib\\site-packages\\sklearn\\metrics\\pairwise.py:1735: DataConversionWarning: Data was converted to boolean for metric yule\n",
      "  warnings.warn(msg, DataConversionWarning)\n"
     ]
    },
    {
     "data": {
      "text/plain": [
       "<matplotlib.axes._subplots.AxesSubplot at 0x1e4f1cd48c8>"
      ]
     },
     "execution_count": 46,
     "metadata": {},
     "output_type": "execute_result"
    },
    {
     "data": {
      "image/png": "[encoded data removed]",
      "text/plain": [
       "<Figure size 432x288 with 1 Axes>"
      ]
     },
     "metadata": {},
     "output_type": "display_data"
    }
   ],
   "source": [
    "# Here we visualise our disimilarity matrix density, note that we need this to be gaussian for good clustering results\n",
    "dm_plot = pairwise_distances(df.T.values, metric = \"yule\")\n",
    "\n",
    "sns.set(rc={'axes.facecolor':'lightblue', 'figure.facecolor':'white'})\n",
    "sns.kdeplot(dm_plot[(dm_plot>0) & (dm_plot<2)].flatten())"
   ]
  },
  {
   "cell_type": "code",
   "execution_count": 47,
   "metadata": {},
   "outputs": [
    {
     "name": "stderr",
     "output_type": "stream",
     "text": [
      "C:\\Users\\Leslie\\Anaconda3\\lib\\site-packages\\ipykernel_launcher.py:3: ClusterWarning: scipy.cluster: The symmetric non-negative hollow observation matrix looks suspiciously like an uncondensed distance matrix\n",
      "  This is separate from the ipykernel package so we can avoid doing imports until\n"
     ]
    },
    {
     "data": {
      "text/plain": [
       "<seaborn.matrix.ClusterGrid at 0x1e4f1ca2408>"
      ]
     },
     "execution_count": 47,
     "metadata": {},
     "output_type": "execute_result"
    },
    {
     "data": {
      "image/png": "[encoded data removed]",
      "text/plain": [
       "<Figure size 720x720 with 4 Axes>"
      ]
     },
     "metadata": {},
     "output_type": "display_data"
    }
   ],
   "source": [
    "dm2 = pairwise_distances(dm.values, metric = 'euclidean')\n",
    "\n",
    "linkage = hc.linkage(dm2, method = 'ward')\n",
    "sns.clustermap(dm2, row_linkage = linkage, col_linkage = linkage)"
   ]
  },
  {
   "cell_type": "code",
   "execution_count": 56,
   "metadata": {},
   "outputs": [
    {
     "name": "stderr",
     "output_type": "stream",
     "text": [
      "C:\\Users\\Leslie\\Anaconda3\\lib\\site-packages\\ipykernel_launcher.py:1: ClusterWarning: scipy.cluster: The symmetric non-negative hollow observation matrix looks suspiciously like an uncondensed distance matrix\n",
      "  \"\"\"Entry point for launching an IPython kernel.\n"
     ]
    },
    {
     "data": {
      "image/png": "[encoded data removed]",
      "text/plain": [
       "<Figure size 1296x432 with 1 Axes>"
      ]
     },
     "metadata": {},
     "output_type": "display_data"
    }
   ],
   "source": [
    "z = hierarchy.linkage(dm2, 'ward')\n",
    "\n",
    "hierarchy.set_link_color_palette(['m', 'c', 'y', 'k'])\n",
    "fig, axes = plt.subplots(1, 1, figsize=(18, 6))\n",
    "axes.set_facecolor('white')\n",
    "dd = hierarchy.dendrogram(z, ax=axes, leaf_rotation=90, truncate_mode='level', leaf_font_size=8, labels=dm.index)\n",
    "hierarchy.set_link_color_palette(None)\n",
    "axes.tick_params(axis=\"x\", labelsize=8)\n",
    "axes.tick_params(axis='y', labelsize=8)\n",
    "plt.show()"
   ]
  },
  {
   "cell_type": "code",
   "execution_count": 57,
   "metadata": {},
   "outputs": [
    {
     "name": "stderr",
     "output_type": "stream",
     "text": [
      "C:\\Users\\Leslie\\AppData\\Roaming\\Python\\Python37\\site-packages\\scipy\\cluster\\hierarchy.py:830: ClusterWarning: scipy.cluster: The symmetric non-negative hollow observation matrix looks suspiciously like an uncondensed distance matrix\n",
      "  return linkage(y, method='ward', metric='euclidean')\n"
     ]
    }
   ],
   "source": [
    "model = AgglomerativeClustering(affinity='euclidean', linkage='ward', memory=None, n_clusters=10)\n",
    "model.fit(dm)\n",
    "\n",
    "labels = model.labels_\n",
    "labels = pd.DataFrame(data = labels)\n",
    "\n",
    "dm2 = dm.reset_index()\n",
    "labels2 = labels.rename(columns={\"index\":\"index\", 0:\"cluster\"})\n",
    "labels2 = labels2.reset_index()"
   ]
  },
  {
   "cell_type": "code",
   "execution_count": 58,
   "metadata": {},
   "outputs": [
    {
     "data": {
      "text/html": [
       "<div>\n",
       "<style scoped>\n",
       "    .dataframe tbody tr th:only-of-type {\n",
       "        vertical-align: middle;\n",
       "    }\n",
       "\n",
       "    .dataframe tbody tr th {\n",
       "        vertical-align: top;\n",
       "    }\n",
       "\n",
       "    .dataframe thead th {\n",
       "        text-align: right;\n",
       "    }\n",
       "</style>\n",
       "<table border=\"1\" class=\"dataframe\">\n",
       "  <thead>\n",
       "    <tr style=\"text-align: right;\">\n",
       "      <th></th>\n",
       "      <th>itemDescription</th>\n",
       "      <th>Instant food products</th>\n",
       "      <th>UHT-milk</th>\n",
       "      <th>abrasive cleaner</th>\n",
       "      <th>artif. sweetener</th>\n",
       "      <th>baking powder</th>\n",
       "      <th>bathroom cleaner</th>\n",
       "      <th>beef</th>\n",
       "      <th>berries</th>\n",
       "      <th>beverages</th>\n",
       "      <th>...</th>\n",
       "      <th>turkey</th>\n",
       "      <th>vinegar</th>\n",
       "      <th>waffles</th>\n",
       "      <th>whipped/sour cream</th>\n",
       "      <th>whisky</th>\n",
       "      <th>white bread</th>\n",
       "      <th>white wine</th>\n",
       "      <th>zwieback</th>\n",
       "      <th>index</th>\n",
       "      <th>cluster</th>\n",
       "    </tr>\n",
       "  </thead>\n",
       "  <tbody>\n",
       "    <tr>\n",
       "      <th>0</th>\n",
       "      <td>Instant food products</td>\n",
       "      <td>0.000000</td>\n",
       "      <td>1.095195</td>\n",
       "      <td>2.000000</td>\n",
       "      <td>2.000000</td>\n",
       "      <td>1.316597</td>\n",
       "      <td>2.000000</td>\n",
       "      <td>0.873756</td>\n",
       "      <td>1.253239</td>\n",
       "      <td>0.967339</td>\n",
       "      <td>...</td>\n",
       "      <td>0.553936</td>\n",
       "      <td>0.541740</td>\n",
       "      <td>0.902564</td>\n",
       "      <td>1.094446</td>\n",
       "      <td>2.0</td>\n",
       "      <td>0.777149</td>\n",
       "      <td>0.939301</td>\n",
       "      <td>0.620779</td>\n",
       "      <td>0</td>\n",
       "      <td>2</td>\n",
       "    </tr>\n",
       "    <tr>\n",
       "      <th>1</th>\n",
       "      <td>UHT-milk</td>\n",
       "      <td>1.095195</td>\n",
       "      <td>0.000000</td>\n",
       "      <td>0.704349</td>\n",
       "      <td>0.854123</td>\n",
       "      <td>0.874069</td>\n",
       "      <td>2.000000</td>\n",
       "      <td>0.935777</td>\n",
       "      <td>0.903799</td>\n",
       "      <td>0.869410</td>\n",
       "      <td>...</td>\n",
       "      <td>1.116713</td>\n",
       "      <td>1.620493</td>\n",
       "      <td>0.906997</td>\n",
       "      <td>0.921251</td>\n",
       "      <td>2.0</td>\n",
       "      <td>1.055594</td>\n",
       "      <td>0.874108</td>\n",
       "      <td>0.649682</td>\n",
       "      <td>1</td>\n",
       "      <td>7</td>\n",
       "    </tr>\n",
       "    <tr>\n",
       "      <th>2</th>\n",
       "      <td>abrasive cleaner</td>\n",
       "      <td>2.000000</td>\n",
       "      <td>0.704349</td>\n",
       "      <td>0.000000</td>\n",
       "      <td>2.000000</td>\n",
       "      <td>2.000000</td>\n",
       "      <td>2.000000</td>\n",
       "      <td>0.762936</td>\n",
       "      <td>0.934382</td>\n",
       "      <td>1.169768</td>\n",
       "      <td>...</td>\n",
       "      <td>0.601898</td>\n",
       "      <td>2.000000</td>\n",
       "      <td>1.224410</td>\n",
       "      <td>0.909183</td>\n",
       "      <td>2.0</td>\n",
       "      <td>0.767293</td>\n",
       "      <td>0.990211</td>\n",
       "      <td>2.000000</td>\n",
       "      <td>2</td>\n",
       "      <td>5</td>\n",
       "    </tr>\n",
       "    <tr>\n",
       "      <th>3</th>\n",
       "      <td>artif. sweetener</td>\n",
       "      <td>2.000000</td>\n",
       "      <td>0.854123</td>\n",
       "      <td>2.000000</td>\n",
       "      <td>0.000000</td>\n",
       "      <td>2.000000</td>\n",
       "      <td>2.000000</td>\n",
       "      <td>1.088082</td>\n",
       "      <td>0.705715</td>\n",
       "      <td>1.306107</td>\n",
       "      <td>...</td>\n",
       "      <td>0.295387</td>\n",
       "      <td>2.000000</td>\n",
       "      <td>1.006352</td>\n",
       "      <td>1.074131</td>\n",
       "      <td>2.0</td>\n",
       "      <td>1.142998</td>\n",
       "      <td>2.000000</td>\n",
       "      <td>2.000000</td>\n",
       "      <td>3</td>\n",
       "      <td>0</td>\n",
       "    </tr>\n",
       "    <tr>\n",
       "      <th>4</th>\n",
       "      <td>baking powder</td>\n",
       "      <td>1.316597</td>\n",
       "      <td>0.874069</td>\n",
       "      <td>2.000000</td>\n",
       "      <td>2.000000</td>\n",
       "      <td>0.000000</td>\n",
       "      <td>0.681093</td>\n",
       "      <td>0.910777</td>\n",
       "      <td>0.795499</td>\n",
       "      <td>0.703643</td>\n",
       "      <td>...</td>\n",
       "      <td>1.105623</td>\n",
       "      <td>2.000000</td>\n",
       "      <td>1.029837</td>\n",
       "      <td>0.966063</td>\n",
       "      <td>2.0</td>\n",
       "      <td>1.104967</td>\n",
       "      <td>1.158962</td>\n",
       "      <td>0.515035</td>\n",
       "      <td>4</td>\n",
       "      <td>4</td>\n",
       "    </tr>\n",
       "  </tbody>\n",
       "</table>\n",
       "<p>5 rows × 152 columns</p>\n",
       "</div>"
      ],
      "text/plain": [
       "         itemDescription  Instant food products  UHT-milk  abrasive cleaner  \\\n",
       "0  Instant food products               0.000000  1.095195          2.000000   \n",
       "1               UHT-milk               1.095195  0.000000          0.704349   \n",
       "2       abrasive cleaner               2.000000  0.704349          0.000000   \n",
       "3       artif. sweetener               2.000000  0.854123          2.000000   \n",
       "4          baking powder               1.316597  0.874069          2.000000   \n",
       "\n",
       "   artif. sweetener  baking powder  bathroom cleaner      beef   berries  \\\n",
       "0          2.000000       1.316597          2.000000  0.873756  1.253239   \n",
       "1          0.854123       0.874069          2.000000  0.935777  0.903799   \n",
       "2          2.000000       2.000000          2.000000  0.762936  0.934382   \n",
       "3          0.000000       2.000000          2.000000  1.088082  0.705715   \n",
       "4          2.000000       0.000000          0.681093  0.910777  0.795499   \n",
       "\n",
       "   beverages  ...    turkey   vinegar   waffles  whipped/sour cream  whisky  \\\n",
       "0   0.967339  ...  0.553936  0.541740  0.902564            1.094446     2.0   \n",
       "1   0.869410  ...  1.116713  1.620493  0.906997            0.921251     2.0   \n",
       "2   1.169768  ...  0.601898  2.000000  1.224410            0.909183     2.0   \n",
       "3   1.306107  ...  0.295387  2.000000  1.006352            1.074131     2.0   \n",
       "4   0.703643  ...  1.105623  2.000000  1.029837            0.966063     2.0   \n",
       "\n",
       "   white bread  white wine  zwieback  index  cluster  \n",
       "0     0.777149    0.939301  0.620779      0        2  \n",
       "1     1.055594    0.874108  0.649682      1        7  \n",
       "2     0.767293    0.990211  2.000000      2        5  \n",
       "3     1.142998    2.000000  2.000000      3        0  \n",
       "4     1.104967    1.158962  0.515035      4        4  \n",
       "\n",
       "[5 rows x 152 columns]"
      ]
     },
     "execution_count": 58,
     "metadata": {},
     "output_type": "execute_result"
    }
   ],
   "source": [
    "clusters = pd.concat([dm2, labels2], axis = 1)\n",
    "clusters.head()"
   ]
  },
  {
   "cell_type": "code",
   "execution_count": 60,
   "metadata": {},
   "outputs": [
    {
     "data": {
      "text/plain": [
       "['artif. sweetener',\n",
       " 'cereals',\n",
       " 'chocolate marshmallow',\n",
       " 'house keeping products',\n",
       " 'light bulbs',\n",
       " 'meat spreads',\n",
       " 'nut snack',\n",
       " 'spices',\n",
       " 'tea']"
      ]
     },
     "execution_count": 60,
     "metadata": {},
     "output_type": "execute_result"
    }
   ],
   "source": [
    "list(clusters[clusters.cluster == 0].itemDescription)"
   ]
  },
  {
   "cell_type": "code",
   "execution_count": 61,
   "metadata": {},
   "outputs": [
    {
     "data": {
      "text/plain": [
       "['cocoa drinks',\n",
       " 'cookware',\n",
       " 'ketchup',\n",
       " 'organic sausage',\n",
       " 'potato products',\n",
       " 'pudding powder',\n",
       " 'specialty vegetables',\n",
       " 'tidbits']"
      ]
     },
     "execution_count": 61,
     "metadata": {},
     "output_type": "execute_result"
    }
   ],
   "source": [
    "list(clusters[clusters.cluster == 1].itemDescription)"
   ]
  },
  {
   "cell_type": "code",
   "execution_count": 62,
   "metadata": {},
   "outputs": [
    {
     "data": {
      "text/plain": [
       "['Instant food products',\n",
       " 'bathroom cleaner',\n",
       " 'brandy',\n",
       " 'canned fruit',\n",
       " 'cling film/bags',\n",
       " 'curd cheese',\n",
       " 'dental care',\n",
       " 'jam',\n",
       " 'kitchen towels',\n",
       " 'male cosmetics',\n",
       " 'popcorn',\n",
       " 'rice',\n",
       " 'snack products',\n",
       " 'softener',\n",
       " 'specialty fat',\n",
       " 'syrup',\n",
       " 'zwieback']"
      ]
     },
     "execution_count": 62,
     "metadata": {},
     "output_type": "execute_result"
    }
   ],
   "source": [
    "list(clusters[clusters.cluster == 2].itemDescription)"
   ]
  },
  {
   "cell_type": "code",
   "execution_count": 63,
   "metadata": {},
   "outputs": [
    {
     "data": {
      "text/plain": [
       "['frozen fruits', 'liqueur', 'whisky']"
      ]
     },
     "execution_count": 63,
     "metadata": {},
     "output_type": "execute_result"
    }
   ],
   "source": [
    "list(clusters[clusters.cluster == 3].itemDescription)"
   ]
  },
  {
   "cell_type": "code",
   "execution_count": 64,
   "metadata": {},
   "outputs": [
    {
     "data": {
      "text/plain": [
       "['baking powder',\n",
       " 'cake bar',\n",
       " 'candles',\n",
       " 'canned fish',\n",
       " 'canned vegetables',\n",
       " 'dish cleaner',\n",
       " 'dog food',\n",
       " 'finished products',\n",
       " 'flower (seeds)',\n",
       " 'frozen fish',\n",
       " 'instant coffee',\n",
       " 'liquor (appetizer)',\n",
       " 'mayonnaise',\n",
       " 'pet care',\n",
       " 'roll products ',\n",
       " 'salt',\n",
       " 'sauces',\n",
       " 'soups',\n",
       " 'sparkling wine',\n",
       " 'specialty cheese',\n",
       " 'spread cheese',\n",
       " 'sweet spreads',\n",
       " 'turkey']"
      ]
     },
     "execution_count": 64,
     "metadata": {},
     "output_type": "execute_result"
    }
   ],
   "source": [
    "list(clusters[clusters.cluster == 4].itemDescription)"
   ]
  },
  {
   "cell_type": "code",
   "execution_count": 65,
   "metadata": {},
   "outputs": [
    {
     "data": {
      "text/plain": [
       "['abrasive cleaner',\n",
       " 'decalcifier',\n",
       " 'fish',\n",
       " 'liver loaf',\n",
       " 'nuts/prunes',\n",
       " 'photo/film',\n",
       " 'soap',\n",
       " 'vinegar']"
      ]
     },
     "execution_count": 65,
     "metadata": {},
     "output_type": "execute_result"
    }
   ],
   "source": [
    "list(clusters[clusters.cluster == 5].itemDescription)"
   ]
  },
  {
   "cell_type": "code",
   "execution_count": 66,
   "metadata": {},
   "outputs": [
    {
     "data": {
      "text/plain": [
       "['cooking chocolate',\n",
       " 'cream',\n",
       " 'hair spray',\n",
       " 'honey',\n",
       " 'prosecco',\n",
       " 'ready soups']"
      ]
     },
     "execution_count": 66,
     "metadata": {},
     "output_type": "execute_result"
    }
   ],
   "source": [
    "list(clusters[clusters.cluster == 6].itemDescription)"
   ]
  },
  {
   "cell_type": "code",
   "execution_count": 67,
   "metadata": {},
   "outputs": [
    {
     "data": {
      "text/plain": [
       "['UHT-milk',\n",
       " 'beef',\n",
       " 'berries',\n",
       " 'beverages',\n",
       " 'bottled beer',\n",
       " 'brown bread',\n",
       " 'butter',\n",
       " 'butter milk',\n",
       " 'candy',\n",
       " 'canned beer',\n",
       " 'cat food',\n",
       " 'chewing gum',\n",
       " 'chicken',\n",
       " 'chocolate',\n",
       " 'citrus fruit',\n",
       " 'coffee',\n",
       " 'condensed milk',\n",
       " 'cream cheese ',\n",
       " 'curd',\n",
       " 'dessert',\n",
       " 'detergent',\n",
       " 'dishes',\n",
       " 'domestic eggs',\n",
       " 'flour',\n",
       " 'frankfurter',\n",
       " 'frozen dessert',\n",
       " 'frozen meals',\n",
       " 'frozen vegetables',\n",
       " 'fruit/vegetable juice',\n",
       " 'grapes',\n",
       " 'ham',\n",
       " 'hamburger meat',\n",
       " 'hard cheese',\n",
       " 'herbs',\n",
       " 'hygiene articles',\n",
       " 'ice cream',\n",
       " 'liquor',\n",
       " 'long life bakery product',\n",
       " 'margarine',\n",
       " 'meat',\n",
       " 'misc. beverages',\n",
       " 'napkins',\n",
       " 'newspapers',\n",
       " 'oil',\n",
       " 'onions',\n",
       " 'packaged fruit/vegetables',\n",
       " 'pasta',\n",
       " 'pastry',\n",
       " 'pickled vegetables',\n",
       " 'pip fruit',\n",
       " 'pork',\n",
       " 'pot plants',\n",
       " 'processed cheese',\n",
       " 'red/blush wine',\n",
       " 'salty snack',\n",
       " 'seasonal products',\n",
       " 'semi-finished bread',\n",
       " 'shopping bags',\n",
       " 'sliced cheese',\n",
       " 'soft cheese',\n",
       " 'specialty bar',\n",
       " 'specialty chocolate',\n",
       " 'sugar',\n",
       " 'waffles',\n",
       " 'whipped/sour cream',\n",
       " 'white bread',\n",
       " 'white wine']"
      ]
     },
     "execution_count": 67,
     "metadata": {},
     "output_type": "execute_result"
    }
   ],
   "source": [
    "list(clusters[clusters.cluster == 7].itemDescription)"
   ]
  },
  {
   "cell_type": "code",
   "execution_count": 68,
   "metadata": {},
   "outputs": [
    {
     "data": {
      "text/plain": [
       "['cleaner',\n",
       " 'female sanitary products',\n",
       " 'frozen potato products',\n",
       " 'mustard',\n",
       " 'rum']"
      ]
     },
     "execution_count": 68,
     "metadata": {},
     "output_type": "execute_result"
    }
   ],
   "source": [
    "list(clusters[clusters.cluster == 8].itemDescription)"
   ]
  },
  {
   "cell_type": "code",
   "execution_count": 69,
   "metadata": {},
   "outputs": [
    {
     "data": {
      "text/plain": [
       "['flower soil/fertilizer', 'organic products', 'skin care']"
      ]
     },
     "execution_count": 69,
     "metadata": {},
     "output_type": "execute_result"
    }
   ],
   "source": [
    "list(clusters[clusters.cluster == 9].itemDescription)"
   ]
  },
  {
   "cell_type": "code",
   "execution_count": null,
   "metadata": {},
   "outputs": [],
   "source": []
  }
 ],
 "metadata": {
  "kernelspec": {
   "display_name": "Python 3",
   "language": "python",
   "name": "python3"
  },
  "language_info": {
   "codemirror_mode": {
    "name": "ipython",
    "version": 3
   },
   "file_extension": ".py",
   "mimetype": "text/x-python",
   "name": "python",
   "nbconvert_exporter": "python",
   "pygments_lexer": "ipython3",
   "version": "3.7.4"
  }
 },
 "nbformat": 4,
 "nbformat_minor": 4
}
